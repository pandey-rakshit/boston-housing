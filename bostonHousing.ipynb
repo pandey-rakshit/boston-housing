{
 "cells": [
  {
   "cell_type": "markdown",
   "id": "b634bd44-809d-47b7-9b5f-f33e5d80d1c1",
   "metadata": {},
   "source": [
    "# ML Project : Linear Regression - Boston Housing"
   ]
  },
  {
   "cell_type": "markdown",
   "id": "88263de0-79f8-40b2-bf0f-60cfe290dc24",
   "metadata": {},
   "source": [
    "## **Problem Statement:**"
   ]
  },
  {
   "cell_type": "markdown",
   "id": "f3054a8d-d655-4b47-8d4f-0b48dc7b4fbb",
   "metadata": {
    "jp-MarkdownHeadingCollapsed": true
   },
   "source": [
    "You are tasked with developing a predictive model to estimate the median value of owner-occupied homes (MEDV) in various neighborhoods of Boston. To achieve this, you will use the Boston Housing dataset, which contains various features describing different aspects of the neighborhoods."
   ]
  },
  {
   "cell_type": "markdown",
   "id": "0bfbeb1f-d83d-4794-87a7-e5e120b0fc6b",
   "metadata": {},
   "source": [
    "### **Dataset Description:**"
   ]
  },
  {
   "cell_type": "markdown",
   "id": "74210e85-2226-4e6f-9ba4-4b40eb137707",
   "metadata": {},
   "source": [
    "\n",
    "The Boston Housing dataset includes the following features:\n",
    "\n",
    "1. CRIM: Per capita crime rate by town.\n",
    "2. ZN: Proportion of residential land zoned for large lots.\n",
    "3. INDUS: Proportion of non-retail business acres per town.\n",
    "4. CHAS: Charles River dummy variable (1 if tract bounds river; 0 otherwise).\n",
    "5. NOX: Nitrogen oxide concentration (parts per 10 million).\n",
    "6. RM: Average number of rooms per dwelling.\n",
    "7. AGE: Proportion of owner-occupied units built before 1940.\n",
    "8. DIS: Weighted distance to employment centers.\n",
    "9. RAD: Index of accessibility to radial highways.\n",
    "10. TAX: Property tax rate.\n",
    "11. PTRATIO: Pupil-teacher ratio.\n",
    "12. B: Proportion of residents of African American descent.\n",
    "13. LSTAT: Percentage of lower status population."
   ]
  },
  {
   "cell_type": "markdown",
   "id": "164ff421-01d0-48f8-b467-e1bf19a4965d",
   "metadata": {},
   "source": [
    "### **Objective:**"
   ]
  },
  {
   "cell_type": "markdown",
   "id": "f4534a0d-4076-41ff-a7d0-c2232f7ba3d7",
   "metadata": {},
   "source": [
    "Your objective is to build a simple linear regression model that predicts the median value of homes (MEDV) based on a single feature, specifically the average number of rooms per dwelling (RM). The goal is to create a model that accurately estimates the MEDV using the RM feature."
   ]
  },
  {
   "cell_type": "markdown",
   "id": "0768b2b7-3d28-42cb-b034-747afc41c332",
   "metadata": {},
   "source": [
    "### **Tasks:**"
   ]
  },
  {
   "cell_type": "markdown",
   "id": "a589cdb0-ea16-43c7-ace0-6569548cecb4",
   "metadata": {},
   "source": [
    "1. Load the Boston Housing dataset from the provided source.\n",
    "\n",
    "2. Preprocess the dataset by selecting the RM feature as the independent variable (X) and the MEDV as the dependent variable (y).\n",
    "\n",
    "3. Split the dataset into training and testing sets (e.g., 80% for training and 20% for testing) to evaluate the model's performance.\n",
    "\n",
    "4. Develop a simple linear regression model using the training data, where you predict MEDV based on RM.\n",
    "\n",
    "5. Evaluate the model's performance on the testing data using various metrics such as RMSE, MAE, MAPE, R<sup>2</sup>, and Adjusted R<sup>2</sup>.\n",
    "\n",
    "6. Visualize the model's predictions by plotting the regression line against the actual data points.\n"
   ]
  },
  {
   "cell_type": "markdown",
   "id": "31243353-bed7-4505-94bc-4021cabf34a5",
   "metadata": {},
   "source": [
    "## Dependencies\n"
   ]
  },
  {
   "cell_type": "markdown",
   "id": "cae7dab4-a399-4819-a981-b941fe1328fc",
   "metadata": {
    "jp-MarkdownHeadingCollapsed": true
   },
   "source": [
    "### Dataset Link"
   ]
  },
  {
   "cell_type": "markdown",
   "id": "75e78fb9-7ade-4006-9d65-2e4439bb7075",
   "metadata": {},
   "source": [
    "https://raw.githubusercontent.com/pandey-rakshit/boston-housing/develop/data/Boston_Housing.csv"
   ]
  },
  {
   "cell_type": "markdown",
   "id": "adbc08cc-717d-4946-a1dd-fd795ca26945",
   "metadata": {},
   "source": [
    "### Module Imports"
   ]
  },
  {
   "cell_type": "code",
   "execution_count": null,
   "id": "527726c4-7e2f-4746-8d32-4965ceb7aa7d",
   "metadata": {},
   "outputs": [],
   "source": []
  }
 ],
 "metadata": {
  "kernelspec": {
   "display_name": "Python(rex)",
   "language": "python",
   "name": "rex"
  },
  "language_info": {
   "codemirror_mode": {
    "name": "ipython",
    "version": 3
   },
   "file_extension": ".py",
   "mimetype": "text/x-python",
   "name": "python",
   "nbconvert_exporter": "python",
   "pygments_lexer": "ipython3",
   "version": "3.8.18"
  }
 },
 "nbformat": 4,
 "nbformat_minor": 5
}
